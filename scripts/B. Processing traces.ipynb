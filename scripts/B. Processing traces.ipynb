{
 "cells": [
  {
   "cell_type": "code",
   "execution_count": 9,
   "metadata": {},
   "outputs": [
    {
     "name": "stdout",
     "output_type": "stream",
     "text": [
      "Wed Apr  8 21:48:19 JST 2020\n",
      "Running with PyMC3 version v.3.8\n",
      "3.6.10 |Anaconda, Inc.| (default, Mar 23 2020, 23:13:11) \n",
      "[GCC 7.3.0]\n",
      "The rpy2.ipython extension is already loaded. To reload it, use:\n",
      "  %reload_ext rpy2.ipython\n"
     ]
    }
   ],
   "source": [
    "%run Initialization.ipynb\n",
    "from scipy import stats"
   ]
  },
  {
   "cell_type": "code",
   "execution_count": 11,
   "metadata": {},
   "outputs": [
    {
     "data": {
      "text/plain": [
       "['20200408-R0']"
      ]
     },
     "execution_count": 11,
     "metadata": {},
     "output_type": "execute_result"
    }
   ],
   "source": [
    "DATADIR = \"data_for_sims\"\n",
    "stansimsdir = \"../../../Hokkaido_Backup/TokyoEOC_cats\"\n",
    "dirs = !ls \"{stansimsdir}\"\n",
    "dirs"
   ]
  },
  {
   "cell_type": "code",
   "execution_count": 12,
   "metadata": {},
   "outputs": [
    {
     "name": "stdout",
     "output_type": "stream",
     "text": [
      "\u001b[31m20200408-R0\u001b[0m\n",
      "\u001b[34m['trace-1.csv', 'trace-2.csv', 'trace-3.csv', 'trace-4.csv', 'trace-5.csv']\u001b[0m\n",
      "CPU times: user 87.1 ms, sys: 15.9 ms, total: 103 ms\n",
      "Wall time: 117 ms\n"
     ]
    }
   ],
   "source": [
    "%%time\n",
    "folder = dirs[0]\n",
    "print(colored(folder, 'red'))\n",
    "posterior_glob = !cd \"{stansimsdir}/{folder}\"; ls trace-*\n",
    "print(colored(posterior_glob,'blue'))\n",
    "cmdstan_data = az.from_cmdstan(posterior = [stansimsdir+\"/\"+folder+\"/\"+x for x in posterior_glob])"
   ]
  },
  {
   "cell_type": "code",
   "execution_count": 13,
   "metadata": {},
   "outputs": [
    {
     "data": {
      "text/html": [
       "<div>\n",
       "<style scoped>\n",
       "    .dataframe tbody tr th:only-of-type {\n",
       "        vertical-align: middle;\n",
       "    }\n",
       "\n",
       "    .dataframe tbody tr th {\n",
       "        vertical-align: top;\n",
       "    }\n",
       "\n",
       "    .dataframe thead th {\n",
       "        text-align: right;\n",
       "    }\n",
       "</style>\n",
       "<table border=\"1\" class=\"dataframe\">\n",
       "  <thead>\n",
       "    <tr style=\"text-align: right;\">\n",
       "      <th></th>\n",
       "      <th>var</th>\n",
       "      <th>time</th>\n",
       "      <th>mean</th>\n",
       "      <th>hpd2.5</th>\n",
       "      <th>hpd25</th>\n",
       "      <th>hpd75</th>\n",
       "      <th>hpd97.5</th>\n",
       "      <th>q2.5</th>\n",
       "      <th>q25</th>\n",
       "      <th>median</th>\n",
       "      <th>q75</th>\n",
       "      <th>q97.5</th>\n",
       "      <th>ess_bulk</th>\n",
       "      <th>ess_tail</th>\n",
       "      <th>r_hat</th>\n",
       "    </tr>\n",
       "  </thead>\n",
       "  <tbody>\n",
       "    <tr>\n",
       "      <th>0</th>\n",
       "      <td>z</td>\n",
       "      <td>NA</td>\n",
       "      <td>0.154</td>\n",
       "      <td>0.088</td>\n",
       "      <td>0.126</td>\n",
       "      <td>0.171</td>\n",
       "      <td>0.225</td>\n",
       "      <td>0.092</td>\n",
       "      <td>0.130</td>\n",
       "      <td>0.152</td>\n",
       "      <td>0.176</td>\n",
       "      <td>0.231</td>\n",
       "      <td>3267.0</td>\n",
       "      <td>3588.0</td>\n",
       "      <td>1.0</td>\n",
       "    </tr>\n",
       "    <tr>\n",
       "      <th>1</th>\n",
       "      <td>R0</td>\n",
       "      <td>NA</td>\n",
       "      <td>1.087</td>\n",
       "      <td>1.046</td>\n",
       "      <td>1.069</td>\n",
       "      <td>1.097</td>\n",
       "      <td>1.132</td>\n",
       "      <td>1.049</td>\n",
       "      <td>1.071</td>\n",
       "      <td>1.085</td>\n",
       "      <td>1.100</td>\n",
       "      <td>1.137</td>\n",
       "      <td>3267.0</td>\n",
       "      <td>3588.0</td>\n",
       "      <td>1.0</td>\n",
       "    </tr>\n",
       "    <tr>\n",
       "      <th>2</th>\n",
       "      <td>p</td>\n",
       "      <td>NA</td>\n",
       "      <td>0.079</td>\n",
       "      <td>0.045</td>\n",
       "      <td>0.064</td>\n",
       "      <td>0.088</td>\n",
       "      <td>0.117</td>\n",
       "      <td>0.047</td>\n",
       "      <td>0.066</td>\n",
       "      <td>0.078</td>\n",
       "      <td>0.091</td>\n",
       "      <td>0.121</td>\n",
       "      <td>3267.0</td>\n",
       "      <td>3588.0</td>\n",
       "      <td>1.0</td>\n",
       "    </tr>\n",
       "  </tbody>\n",
       "</table>\n",
       "</div>"
      ],
      "text/plain": [
       "  var time   mean  hpd2.5  hpd25  hpd75  hpd97.5   q2.5    q25  median    q75  \\\n",
       "0   z   NA  0.154   0.088  0.126  0.171    0.225  0.092  0.130   0.152  0.176   \n",
       "1  R0   NA  1.087   1.046  1.069  1.097    1.132  1.049  1.071   1.085  1.100   \n",
       "2   p   NA  0.079   0.045  0.064  0.088    0.117  0.047  0.066   0.078  0.091   \n",
       "\n",
       "   q97.5  ess_bulk  ess_tail  r_hat  \n",
       "0  0.231    3267.0    3588.0    1.0  \n",
       "1  1.137    3267.0    3588.0    1.0  \n",
       "2  0.121    3267.0    3588.0    1.0  "
      ]
     },
     "execution_count": 13,
     "metadata": {},
     "output_type": "execute_result"
    }
   ],
   "source": [
    "cmdstan_stats = get_stats(cmdstan_data.posterior.drop('theta'))\n",
    "cmdstan_stats"
   ]
  },
  {
   "cell_type": "code",
   "execution_count": null,
   "metadata": {},
   "outputs": [],
   "source": []
  }
 ],
 "metadata": {
  "kernelspec": {
   "display_name": "Python 3",
   "language": "python",
   "name": "python3"
  },
  "language_info": {
   "codemirror_mode": {
    "name": "ipython",
    "version": 3
   },
   "file_extension": ".py",
   "mimetype": "text/x-python",
   "name": "python",
   "nbconvert_exporter": "python",
   "pygments_lexer": "ipython3",
   "version": "3.7.7"
  }
 },
 "nbformat": 4,
 "nbformat_minor": 4
}
