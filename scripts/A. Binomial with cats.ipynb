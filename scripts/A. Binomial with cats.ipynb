{
 "cells": [
  {
   "cell_type": "code",
   "execution_count": 1,
   "metadata": {},
   "outputs": [
    {
     "name": "stderr",
     "output_type": "stream",
     "text": [
      "rstan (Version 2.19.3, GitRev: 2e1f913d3ca3)\n",
      "\n",
      "For execution on a local, multicore CPU with excess RAM we recommend calling\n",
      "options(mc.cores = parallel::detectCores()).\n",
      "To avoid recompilation of unchanged Stan programs, we recommend calling\n",
      "rstan_options(auto_write = TRUE)\n",
      "\n"
     ]
    },
    {
     "data": {
      "text/plain": [
       "[1] ‘2.19.3’"
      ]
     },
     "metadata": {},
     "output_type": "display_data"
    },
    {
     "data": {
      "text/plain": [
       "[1] ‘2.21.0.1’"
      ]
     },
     "metadata": {},
     "output_type": "display_data"
    },
    {
     "data": {
      "text/html": [
       "'2.21.0'"
      ],
      "text/latex": [
       "'2.21.0'"
      ],
      "text/markdown": [
       "'2.21.0'"
      ],
      "text/plain": [
       "[1] \"2.21.0\""
      ]
     },
     "metadata": {},
     "output_type": "display_data"
    }
   ],
   "source": [
    "libraries = c(\"dplyr\", \"lubridate\", \"rstan\")\n",
    "for(x in libraries) { library(x,character.only=TRUE,warn.conflicts=FALSE,quietly=TRUE) }\n",
    "\n",
    "theme_set(theme_minimal(base_size=12)) \n",
    "\n",
    "'%&%' = function(x,y)paste0(x,y)\n",
    "\n",
    "options(mc.cores = parallel::detectCores())\n",
    "rstan_options(auto_write = TRUE)\n",
    "\n",
    "packageVersion(\"rstan\")\n",
    "packageVersion(\"StanHeaders\")\n",
    "rstan::stan_version()"
   ]
  },
  {
   "cell_type": "code",
   "execution_count": 6,
   "metadata": {},
   "outputs": [
    {
     "data": {
      "text/html": [
       "<style>\n",
       ".list-inline {list-style: none; margin:0; padding: 0}\n",
       ".list-inline>li {display: inline-block}\n",
       ".list-inline>li:not(:last-child)::after {content: \"\\00b7\"; padding: 0 .5ex}\n",
       "</style>\n",
       "<ol class=list-inline><li>''</li><li>'--- Translating Stan model to C++ code ---'</li><li><span style=white-space:pre-wrap>'bin/stanc  --o=../Dropbox/Hokkaido_Backup/TokyoEOC_cats/20200408-R0/fit.hpp ../Dropbox/Hokkaido_Backup/TokyoEOC_cats/20200408-R0/fit.stan'</span></li><li><span style=white-space:pre-wrap>'mpicxx -fvisibility-inlines-hidden -std=c++17 -fmessage-length=0 -march=nocona -mtune=haswell -ftree-vectorize -fPIC -fstack-protector-strong -fno-plt -O2 -ffunction-sections -pipe -isystem /home/aakhmetz/anaconda3/include -std=c++1y -D_REENTRANT -Wno-sign-compare    -Wno-delete-non-virtual-dtor  -I stan/lib/stan_math/lib/tbb_2019_U8/include -O3 -I src -I stan/src -I lib/rapidjson_1.1.0/ -I stan/lib/stan_math/ -I stan/lib/stan_math/lib/eigen_3.3.3 -I stan/lib/stan_math/lib/boost_1.72.0 -I stan/lib/stan_math/lib/sundials_4.1.0/include -DNDEBUG -D_FORTIFY_SOURCE=2 -O2 -isystem /home/aakhmetz/anaconda3/include    -DBOOST_DISABLE_ASSERTS   -DSTAN_MPI   -c -MT ../Dropbox/Hokkaido_Backup/TokyoEOC_cats/20200408-R0/fit.o -MT ../Dropbox/Hokkaido_Backup/TokyoEOC_cats/20200408-R0/fit -include ../Dropbox/Hokkaido_Backup/TokyoEOC_cats/20200408-R0/fit.hpp -include src/cmdstan/main.cpp -MM -E -MG -MP -MF ../Dropbox/Hokkaido_Backup/TokyoEOC_cats/20200408-R0/fit.d ../Dropbox/Hokkaido_Backup/TokyoEOC_cats/20200408-R0/fit.hpp'</span></li><li>''</li><li>'--- Compiling, linking C++ code ---'</li><li><span style=white-space:pre-wrap>'mpicxx -fvisibility-inlines-hidden -std=c++17 -fmessage-length=0 -march=nocona -mtune=haswell -ftree-vectorize -fPIC -fstack-protector-strong -fno-plt -O2 -ffunction-sections -pipe -isystem /home/aakhmetz/anaconda3/include -std=c++1y -D_REENTRANT -Wno-sign-compare    -Wno-delete-non-virtual-dtor  -I stan/lib/stan_math/lib/tbb_2019_U8/include -O3 -I src -I stan/src -I lib/rapidjson_1.1.0/ -I stan/lib/stan_math/ -I stan/lib/stan_math/lib/eigen_3.3.3 -I stan/lib/stan_math/lib/boost_1.72.0 -I stan/lib/stan_math/lib/sundials_4.1.0/include -DNDEBUG -D_FORTIFY_SOURCE=2 -O2 -isystem /home/aakhmetz/anaconda3/include    -DBOOST_DISABLE_ASSERTS   -DSTAN_MPI   -c  -x c++ -o ../Dropbox/Hokkaido_Backup/TokyoEOC_cats/20200408-R0/fit.o ../Dropbox/Hokkaido_Backup/TokyoEOC_cats/20200408-R0/fit.hpp'</span></li><li><span style=white-space:pre-wrap>'mpicxx -fvisibility-inlines-hidden -std=c++17 -fmessage-length=0 -march=nocona -mtune=haswell -ftree-vectorize -fPIC -fstack-protector-strong -fno-plt -O2 -ffunction-sections -pipe -isystem /home/aakhmetz/anaconda3/include -std=c++1y -D_REENTRANT -Wno-sign-compare    -Wno-delete-non-virtual-dtor  -I stan/lib/stan_math/lib/tbb_2019_U8/include -O3 -I src -I stan/src -I lib/rapidjson_1.1.0/ -I stan/lib/stan_math/ -I stan/lib/stan_math/lib/eigen_3.3.3 -I stan/lib/stan_math/lib/boost_1.72.0 -I stan/lib/stan_math/lib/sundials_4.1.0/include -DNDEBUG -D_FORTIFY_SOURCE=2 -O2 -isystem /home/aakhmetz/anaconda3/include    -DBOOST_DISABLE_ASSERTS   -DSTAN_MPI  -Wl,-O2 -Wl,--sort-common -Wl,--as-needed -Wl,-z,relro -Wl,-z,now -Wl,--disable-new-dtags -Wl,--gc-sections -Wl,-rpath,/home/aakhmetz/anaconda3/lib -Wl,-rpath-link,/home/aakhmetz/anaconda3/lib -L/home/aakhmetz/anaconda3/lib       -Wl,-L,\"/home/aakhmetz/CmdStan/stan/lib/stan_math/lib/boost_1.72.0/stage/lib\" -Wl,-rpath,\"/home/aakhmetz/CmdStan/stan/lib/stan_math/lib/boost_1.72.0/stage/lib\" -Wl,-L,\"/home/aakhmetz/CmdStan/stan/lib/stan_math/lib/tbb\" -Wl,-rpath,\"/home/aakhmetz/CmdStan/stan/lib/stan_math/lib/tbb\"  ../Dropbox/Hokkaido_Backup/TokyoEOC_cats/20200408-R0/fit.o src/cmdstan/main.o         stan/lib/stan_math/lib/sundials_4.1.0/lib/libsundials_nvecserial.a stan/lib/stan_math/lib/sundials_4.1.0/lib/libsundials_cvodes.a stan/lib/stan_math/lib/sundials_4.1.0/lib/libsundials_idas.a stan/lib/stan_math/lib/sundials_4.1.0/lib/libsundials_kinsol.a stan/lib/stan_math/lib/boost_1.72.0/stage/lib/libboost_serialization.so stan/lib/stan_math/lib/boost_1.72.0/stage/lib/libboost_mpi.so stan/lib/stan_math/stan/math/prim/functor/mpi_cluster_inst.o stan/lib/stan_math/lib/tbb/libtbb.so.2 -o ../Dropbox/Hokkaido_Backup/TokyoEOC_cats/20200408-R0/fit'</span></li><li>'Running 1'</li><li>'Running 2'</li><li>'Running 3'</li><li>'Running 4'</li><li>'Running 5'</li><li>'Finished sampling haha!'</li></ol>\n"
      ],
      "text/latex": [
       "\\begin{enumerate*}\n",
       "\\item ''\n",
       "\\item '--- Translating Stan model to C++ code ---'\n",
       "\\item 'bin/stanc  --o=../Dropbox/Hokkaido\\_Backup/TokyoEOC\\_cats/20200408-R0/fit.hpp ../Dropbox/Hokkaido\\_Backup/TokyoEOC\\_cats/20200408-R0/fit.stan'\n",
       "\\item 'mpicxx -fvisibility-inlines-hidden -std=c++17 -fmessage-length=0 -march=nocona -mtune=haswell -ftree-vectorize -fPIC -fstack-protector-strong -fno-plt -O2 -ffunction-sections -pipe -isystem /home/aakhmetz/anaconda3/include -std=c++1y -D\\_REENTRANT -Wno-sign-compare    -Wno-delete-non-virtual-dtor  -I stan/lib/stan\\_math/lib/tbb\\_2019\\_U8/include -O3 -I src -I stan/src -I lib/rapidjson\\_1.1.0/ -I stan/lib/stan\\_math/ -I stan/lib/stan\\_math/lib/eigen\\_3.3.3 -I stan/lib/stan\\_math/lib/boost\\_1.72.0 -I stan/lib/stan\\_math/lib/sundials\\_4.1.0/include -DNDEBUG -D\\_FORTIFY\\_SOURCE=2 -O2 -isystem /home/aakhmetz/anaconda3/include    -DBOOST\\_DISABLE\\_ASSERTS   -DSTAN\\_MPI   -c -MT ../Dropbox/Hokkaido\\_Backup/TokyoEOC\\_cats/20200408-R0/fit.o -MT ../Dropbox/Hokkaido\\_Backup/TokyoEOC\\_cats/20200408-R0/fit -include ../Dropbox/Hokkaido\\_Backup/TokyoEOC\\_cats/20200408-R0/fit.hpp -include src/cmdstan/main.cpp -MM -E -MG -MP -MF ../Dropbox/Hokkaido\\_Backup/TokyoEOC\\_cats/20200408-R0/fit.d ../Dropbox/Hokkaido\\_Backup/TokyoEOC\\_cats/20200408-R0/fit.hpp'\n",
       "\\item ''\n",
       "\\item '--- Compiling, linking C++ code ---'\n",
       "\\item 'mpicxx -fvisibility-inlines-hidden -std=c++17 -fmessage-length=0 -march=nocona -mtune=haswell -ftree-vectorize -fPIC -fstack-protector-strong -fno-plt -O2 -ffunction-sections -pipe -isystem /home/aakhmetz/anaconda3/include -std=c++1y -D\\_REENTRANT -Wno-sign-compare    -Wno-delete-non-virtual-dtor  -I stan/lib/stan\\_math/lib/tbb\\_2019\\_U8/include -O3 -I src -I stan/src -I lib/rapidjson\\_1.1.0/ -I stan/lib/stan\\_math/ -I stan/lib/stan\\_math/lib/eigen\\_3.3.3 -I stan/lib/stan\\_math/lib/boost\\_1.72.0 -I stan/lib/stan\\_math/lib/sundials\\_4.1.0/include -DNDEBUG -D\\_FORTIFY\\_SOURCE=2 -O2 -isystem /home/aakhmetz/anaconda3/include    -DBOOST\\_DISABLE\\_ASSERTS   -DSTAN\\_MPI   -c  -x c++ -o ../Dropbox/Hokkaido\\_Backup/TokyoEOC\\_cats/20200408-R0/fit.o ../Dropbox/Hokkaido\\_Backup/TokyoEOC\\_cats/20200408-R0/fit.hpp'\n",
       "\\item 'mpicxx -fvisibility-inlines-hidden -std=c++17 -fmessage-length=0 -march=nocona -mtune=haswell -ftree-vectorize -fPIC -fstack-protector-strong -fno-plt -O2 -ffunction-sections -pipe -isystem /home/aakhmetz/anaconda3/include -std=c++1y -D\\_REENTRANT -Wno-sign-compare    -Wno-delete-non-virtual-dtor  -I stan/lib/stan\\_math/lib/tbb\\_2019\\_U8/include -O3 -I src -I stan/src -I lib/rapidjson\\_1.1.0/ -I stan/lib/stan\\_math/ -I stan/lib/stan\\_math/lib/eigen\\_3.3.3 -I stan/lib/stan\\_math/lib/boost\\_1.72.0 -I stan/lib/stan\\_math/lib/sundials\\_4.1.0/include -DNDEBUG -D\\_FORTIFY\\_SOURCE=2 -O2 -isystem /home/aakhmetz/anaconda3/include    -DBOOST\\_DISABLE\\_ASSERTS   -DSTAN\\_MPI  -Wl,-O2 -Wl,--sort-common -Wl,--as-needed -Wl,-z,relro -Wl,-z,now -Wl,--disable-new-dtags -Wl,--gc-sections -Wl,-rpath,/home/aakhmetz/anaconda3/lib -Wl,-rpath-link,/home/aakhmetz/anaconda3/lib -L/home/aakhmetz/anaconda3/lib       -Wl,-L,\"/home/aakhmetz/CmdStan/stan/lib/stan\\_math/lib/boost\\_1.72.0/stage/lib\" -Wl,-rpath,\"/home/aakhmetz/CmdStan/stan/lib/stan\\_math/lib/boost\\_1.72.0/stage/lib\" -Wl,-L,\"/home/aakhmetz/CmdStan/stan/lib/stan\\_math/lib/tbb\" -Wl,-rpath,\"/home/aakhmetz/CmdStan/stan/lib/stan\\_math/lib/tbb\"  ../Dropbox/Hokkaido\\_Backup/TokyoEOC\\_cats/20200408-R0/fit.o src/cmdstan/main.o         stan/lib/stan\\_math/lib/sundials\\_4.1.0/lib/libsundials\\_nvecserial.a stan/lib/stan\\_math/lib/sundials\\_4.1.0/lib/libsundials\\_cvodes.a stan/lib/stan\\_math/lib/sundials\\_4.1.0/lib/libsundials\\_idas.a stan/lib/stan\\_math/lib/sundials\\_4.1.0/lib/libsundials\\_kinsol.a stan/lib/stan\\_math/lib/boost\\_1.72.0/stage/lib/libboost\\_serialization.so stan/lib/stan\\_math/lib/boost\\_1.72.0/stage/lib/libboost\\_mpi.so stan/lib/stan\\_math/stan/math/prim/functor/mpi\\_cluster\\_inst.o stan/lib/stan\\_math/lib/tbb/libtbb.so.2 -o ../Dropbox/Hokkaido\\_Backup/TokyoEOC\\_cats/20200408-R0/fit'\n",
       "\\item 'Running 1'\n",
       "\\item 'Running 2'\n",
       "\\item 'Running 3'\n",
       "\\item 'Running 4'\n",
       "\\item 'Running 5'\n",
       "\\item 'Finished sampling haha!'\n",
       "\\end{enumerate*}\n"
      ],
      "text/markdown": [
       "1. ''\n",
       "2. '--- Translating Stan model to C++ code ---'\n",
       "3. <span style=white-space:pre-wrap>'bin/stanc  --o=../Dropbox/Hokkaido_Backup/TokyoEOC_cats/20200408-R0/fit.hpp ../Dropbox/Hokkaido_Backup/TokyoEOC_cats/20200408-R0/fit.stan'</span>\n",
       "4. <span style=white-space:pre-wrap>'mpicxx -fvisibility-inlines-hidden -std=c++17 -fmessage-length=0 -march=nocona -mtune=haswell -ftree-vectorize -fPIC -fstack-protector-strong -fno-plt -O2 -ffunction-sections -pipe -isystem /home/aakhmetz/anaconda3/include -std=c++1y -D_REENTRANT -Wno-sign-compare    -Wno-delete-non-virtual-dtor  -I stan/lib/stan_math/lib/tbb_2019_U8/include -O3 -I src -I stan/src -I lib/rapidjson_1.1.0/ -I stan/lib/stan_math/ -I stan/lib/stan_math/lib/eigen_3.3.3 -I stan/lib/stan_math/lib/boost_1.72.0 -I stan/lib/stan_math/lib/sundials_4.1.0/include -DNDEBUG -D_FORTIFY_SOURCE=2 -O2 -isystem /home/aakhmetz/anaconda3/include    -DBOOST_DISABLE_ASSERTS   -DSTAN_MPI   -c -MT ../Dropbox/Hokkaido_Backup/TokyoEOC_cats/20200408-R0/fit.o -MT ../Dropbox/Hokkaido_Backup/TokyoEOC_cats/20200408-R0/fit -include ../Dropbox/Hokkaido_Backup/TokyoEOC_cats/20200408-R0/fit.hpp -include src/cmdstan/main.cpp -MM -E -MG -MP -MF ../Dropbox/Hokkaido_Backup/TokyoEOC_cats/20200408-R0/fit.d ../Dropbox/Hokkaido_Backup/TokyoEOC_cats/20200408-R0/fit.hpp'</span>\n",
       "5. ''\n",
       "6. '--- Compiling, linking C++ code ---'\n",
       "7. <span style=white-space:pre-wrap>'mpicxx -fvisibility-inlines-hidden -std=c++17 -fmessage-length=0 -march=nocona -mtune=haswell -ftree-vectorize -fPIC -fstack-protector-strong -fno-plt -O2 -ffunction-sections -pipe -isystem /home/aakhmetz/anaconda3/include -std=c++1y -D_REENTRANT -Wno-sign-compare    -Wno-delete-non-virtual-dtor  -I stan/lib/stan_math/lib/tbb_2019_U8/include -O3 -I src -I stan/src -I lib/rapidjson_1.1.0/ -I stan/lib/stan_math/ -I stan/lib/stan_math/lib/eigen_3.3.3 -I stan/lib/stan_math/lib/boost_1.72.0 -I stan/lib/stan_math/lib/sundials_4.1.0/include -DNDEBUG -D_FORTIFY_SOURCE=2 -O2 -isystem /home/aakhmetz/anaconda3/include    -DBOOST_DISABLE_ASSERTS   -DSTAN_MPI   -c  -x c++ -o ../Dropbox/Hokkaido_Backup/TokyoEOC_cats/20200408-R0/fit.o ../Dropbox/Hokkaido_Backup/TokyoEOC_cats/20200408-R0/fit.hpp'</span>\n",
       "8. <span style=white-space:pre-wrap>'mpicxx -fvisibility-inlines-hidden -std=c++17 -fmessage-length=0 -march=nocona -mtune=haswell -ftree-vectorize -fPIC -fstack-protector-strong -fno-plt -O2 -ffunction-sections -pipe -isystem /home/aakhmetz/anaconda3/include -std=c++1y -D_REENTRANT -Wno-sign-compare    -Wno-delete-non-virtual-dtor  -I stan/lib/stan_math/lib/tbb_2019_U8/include -O3 -I src -I stan/src -I lib/rapidjson_1.1.0/ -I stan/lib/stan_math/ -I stan/lib/stan_math/lib/eigen_3.3.3 -I stan/lib/stan_math/lib/boost_1.72.0 -I stan/lib/stan_math/lib/sundials_4.1.0/include -DNDEBUG -D_FORTIFY_SOURCE=2 -O2 -isystem /home/aakhmetz/anaconda3/include    -DBOOST_DISABLE_ASSERTS   -DSTAN_MPI  -Wl,-O2 -Wl,--sort-common -Wl,--as-needed -Wl,-z,relro -Wl,-z,now -Wl,--disable-new-dtags -Wl,--gc-sections -Wl,-rpath,/home/aakhmetz/anaconda3/lib -Wl,-rpath-link,/home/aakhmetz/anaconda3/lib -L/home/aakhmetz/anaconda3/lib       -Wl,-L,\"/home/aakhmetz/CmdStan/stan/lib/stan_math/lib/boost_1.72.0/stage/lib\" -Wl,-rpath,\"/home/aakhmetz/CmdStan/stan/lib/stan_math/lib/boost_1.72.0/stage/lib\" -Wl,-L,\"/home/aakhmetz/CmdStan/stan/lib/stan_math/lib/tbb\" -Wl,-rpath,\"/home/aakhmetz/CmdStan/stan/lib/stan_math/lib/tbb\"  ../Dropbox/Hokkaido_Backup/TokyoEOC_cats/20200408-R0/fit.o src/cmdstan/main.o         stan/lib/stan_math/lib/sundials_4.1.0/lib/libsundials_nvecserial.a stan/lib/stan_math/lib/sundials_4.1.0/lib/libsundials_cvodes.a stan/lib/stan_math/lib/sundials_4.1.0/lib/libsundials_idas.a stan/lib/stan_math/lib/sundials_4.1.0/lib/libsundials_kinsol.a stan/lib/stan_math/lib/boost_1.72.0/stage/lib/libboost_serialization.so stan/lib/stan_math/lib/boost_1.72.0/stage/lib/libboost_mpi.so stan/lib/stan_math/stan/math/prim/functor/mpi_cluster_inst.o stan/lib/stan_math/lib/tbb/libtbb.so.2 -o ../Dropbox/Hokkaido_Backup/TokyoEOC_cats/20200408-R0/fit'</span>\n",
       "9. 'Running 1'\n",
       "10. 'Running 2'\n",
       "11. 'Running 3'\n",
       "12. 'Running 4'\n",
       "13. 'Running 5'\n",
       "14. 'Finished sampling haha!'\n",
       "\n",
       "\n"
      ],
      "text/plain": [
       " [1] \"\"                                                                                                                                                                                                                                                                                                                                                                                                                                                                                                                                                                                                                                                                                                                                                                                                                                                                                                                                                                                                                                                                                                                                                                                                                                                                                                                                                                                                                                                                                                                                                                                                                                                                                                                                                                                                                                                                                  \n",
       " [2] \"--- Translating Stan model to C++ code ---\"                                                                                                                                                                                                                                                                                                                                                                                                                                                                                                                                                                                                                                                                                                                                                                                                                                                                                                                                                                                                                                                                                                                                                                                                                                                                                                                                                                                                                                                                                                                                                                                                                                                                                                                                                                                                                                        \n",
       " [3] \"bin/stanc  --o=../Dropbox/Hokkaido_Backup/TokyoEOC_cats/20200408-R0/fit.hpp ../Dropbox/Hokkaido_Backup/TokyoEOC_cats/20200408-R0/fit.stan\"                                                                                                                                                                                                                                                                                                                                                                                                                                                                                                                                                                                                                                                                                                                                                                                                                                                                                                                                                                                                                                                                                                                                                                                                                                                                                                                                                                                                                                                                                                                                                                                                                                                                                                                                         \n",
       " [4] \"mpicxx -fvisibility-inlines-hidden -std=c++17 -fmessage-length=0 -march=nocona -mtune=haswell -ftree-vectorize -fPIC -fstack-protector-strong -fno-plt -O2 -ffunction-sections -pipe -isystem /home/aakhmetz/anaconda3/include -std=c++1y -D_REENTRANT -Wno-sign-compare    -Wno-delete-non-virtual-dtor  -I stan/lib/stan_math/lib/tbb_2019_U8/include -O3 -I src -I stan/src -I lib/rapidjson_1.1.0/ -I stan/lib/stan_math/ -I stan/lib/stan_math/lib/eigen_3.3.3 -I stan/lib/stan_math/lib/boost_1.72.0 -I stan/lib/stan_math/lib/sundials_4.1.0/include -DNDEBUG -D_FORTIFY_SOURCE=2 -O2 -isystem /home/aakhmetz/anaconda3/include    -DBOOST_DISABLE_ASSERTS   -DSTAN_MPI   -c -MT ../Dropbox/Hokkaido_Backup/TokyoEOC_cats/20200408-R0/fit.o -MT ../Dropbox/Hokkaido_Backup/TokyoEOC_cats/20200408-R0/fit -include ../Dropbox/Hokkaido_Backup/TokyoEOC_cats/20200408-R0/fit.hpp -include src/cmdstan/main.cpp -MM -E -MG -MP -MF ../Dropbox/Hokkaido_Backup/TokyoEOC_cats/20200408-R0/fit.d ../Dropbox/Hokkaido_Backup/TokyoEOC_cats/20200408-R0/fit.hpp\"                                                                                                                                                                                                                                                                                                                                                                                                                                                                                                                                                                                                                                                                                                                                                                                                                    \n",
       " [5] \"\"                                                                                                                                                                                                                                                                                                                                                                                                                                                                                                                                                                                                                                                                                                                                                                                                                                                                                                                                                                                                                                                                                                                                                                                                                                                                                                                                                                                                                                                                                                                                                                                                                                                                                                                                                                                                                                                                                  \n",
       " [6] \"--- Compiling, linking C++ code ---\"                                                                                                                                                                                                                                                                                                                                                                                                                                                                                                                                                                                                                                                                                                                                                                                                                                                                                                                                                                                                                                                                                                                                                                                                                                                                                                                                                                                                                                                                                                                                                                                                                                                                                                                                                                                                                                               \n",
       " [7] \"mpicxx -fvisibility-inlines-hidden -std=c++17 -fmessage-length=0 -march=nocona -mtune=haswell -ftree-vectorize -fPIC -fstack-protector-strong -fno-plt -O2 -ffunction-sections -pipe -isystem /home/aakhmetz/anaconda3/include -std=c++1y -D_REENTRANT -Wno-sign-compare    -Wno-delete-non-virtual-dtor  -I stan/lib/stan_math/lib/tbb_2019_U8/include -O3 -I src -I stan/src -I lib/rapidjson_1.1.0/ -I stan/lib/stan_math/ -I stan/lib/stan_math/lib/eigen_3.3.3 -I stan/lib/stan_math/lib/boost_1.72.0 -I stan/lib/stan_math/lib/sundials_4.1.0/include -DNDEBUG -D_FORTIFY_SOURCE=2 -O2 -isystem /home/aakhmetz/anaconda3/include    -DBOOST_DISABLE_ASSERTS   -DSTAN_MPI   -c  -x c++ -o ../Dropbox/Hokkaido_Backup/TokyoEOC_cats/20200408-R0/fit.o ../Dropbox/Hokkaido_Backup/TokyoEOC_cats/20200408-R0/fit.hpp\"                                                                                                                                                                                                                                                                                                                                                                                                                                                                                                                                                                                                                                                                                                                                                                                                                                                                                                                                                                                                                                                            \n",
       " [8] \"mpicxx -fvisibility-inlines-hidden -std=c++17 -fmessage-length=0 -march=nocona -mtune=haswell -ftree-vectorize -fPIC -fstack-protector-strong -fno-plt -O2 -ffunction-sections -pipe -isystem /home/aakhmetz/anaconda3/include -std=c++1y -D_REENTRANT -Wno-sign-compare    -Wno-delete-non-virtual-dtor  -I stan/lib/stan_math/lib/tbb_2019_U8/include -O3 -I src -I stan/src -I lib/rapidjson_1.1.0/ -I stan/lib/stan_math/ -I stan/lib/stan_math/lib/eigen_3.3.3 -I stan/lib/stan_math/lib/boost_1.72.0 -I stan/lib/stan_math/lib/sundials_4.1.0/include -DNDEBUG -D_FORTIFY_SOURCE=2 -O2 -isystem /home/aakhmetz/anaconda3/include    -DBOOST_DISABLE_ASSERTS   -DSTAN_MPI  -Wl,-O2 -Wl,--sort-common -Wl,--as-needed -Wl,-z,relro -Wl,-z,now -Wl,--disable-new-dtags -Wl,--gc-sections -Wl,-rpath,/home/aakhmetz/anaconda3/lib -Wl,-rpath-link,/home/aakhmetz/anaconda3/lib -L/home/aakhmetz/anaconda3/lib       -Wl,-L,\\\"/home/aakhmetz/CmdStan/stan/lib/stan_math/lib/boost_1.72.0/stage/lib\\\" -Wl,-rpath,\\\"/home/aakhmetz/CmdStan/stan/lib/stan_math/lib/boost_1.72.0/stage/lib\\\" -Wl,-L,\\\"/home/aakhmetz/CmdStan/stan/lib/stan_math/lib/tbb\\\" -Wl,-rpath,\\\"/home/aakhmetz/CmdStan/stan/lib/stan_math/lib/tbb\\\"  ../Dropbox/Hokkaido_Backup/TokyoEOC_cats/20200408-R0/fit.o src/cmdstan/main.o         stan/lib/stan_math/lib/sundials_4.1.0/lib/libsundials_nvecserial.a stan/lib/stan_math/lib/sundials_4.1.0/lib/libsundials_cvodes.a stan/lib/stan_math/lib/sundials_4.1.0/lib/libsundials_idas.a stan/lib/stan_math/lib/sundials_4.1.0/lib/libsundials_kinsol.a stan/lib/stan_math/lib/boost_1.72.0/stage/lib/libboost_serialization.so stan/lib/stan_math/lib/boost_1.72.0/stage/lib/libboost_mpi.so stan/lib/stan_math/stan/math/prim/functor/mpi_cluster_inst.o stan/lib/stan_math/lib/tbb/libtbb.so.2 -o ../Dropbox/Hokkaido_Backup/TokyoEOC_cats/20200408-R0/fit\"\n",
       " [9] \"Running 1\"                                                                                                                                                                                                                                                                                                                                                                                                                                                                                                                                                                                                                                                                                                                                                                                                                                                                                                                                                                                                                                                                                                                                                                                                                                                                                                                                                                                                                                                                                                                                                                                                                                                                                                                                                                                                                                                                         \n",
       "[10] \"Running 2\"                                                                                                                                                                                                                                                                                                                                                                                                                                                                                                                                                                                                                                                                                                                                                                                                                                                                                                                                                                                                                                                                                                                                                                                                                                                                                                                                                                                                                                                                                                                                                                                                                                                                                                                                                                                                                                                                         \n",
       "[11] \"Running 3\"                                                                                                                                                                                                                                                                                                                                                                                                                                                                                                                                                                                                                                                                                                                                                                                                                                                                                                                                                                                                                                                                                                                                                                                                                                                                                                                                                                                                                                                                                                                                                                                                                                                                                                                                                                                                                                                                         \n",
       "[12] \"Running 4\"                                                                                                                                                                                                                                                                                                                                                                                                                                                                                                                                                                                                                                                                                                                                                                                                                                                                                                                                                                                                                                                                                                                                                                                                                                                                                                                                                                                                                                                                                                                                                                                                                                                                                                                                                                                                                                                                         \n",
       "[13] \"Running 5\"                                                                                                                                                                                                                                                                                                                                                                                                                                                                                                                                                                                                                                                                                                                                                                                                                                                                                                                                                                                                                                                                                                                                                                                                                                                                                                                                                                                                                                                                                                                                                                                                                                                                                                                                                                                                                                                                         \n",
       "[14] \"Finished sampling haha!\"                                                                                                                                                                                                                                                                                                                                                                                                                                                                                                                                                                                                                                                                                                                                                                                                                                                                                                                                                                                                                                                                                                                                                                                                                                                                                                                                                                                                                                                                                                                                                                                                                                                                                                                                                                                                                                                           "
      ]
     },
     "metadata": {},
     "output_type": "display_data"
    }
   ],
   "source": [
    "datestar = today()\n",
    "stanmaindir = '../../../Hokkaido_Backup/TokyoEOC_cats'\n",
    "unlink(stanmaindir, recursive=T)\n",
    "dir.create(stanmaindir)\n",
    "\n",
    "standirname = stanmaindir%&%\"/\"%&%format(datestar,\"%Y%m%d\")%&%'-R0'\n",
    "unlink(standirname, recursive=T)\n",
    "dir.create(standirname)\n",
    "\n",
    "\"functions {\n",
    "    vector algebraic_equation(vector y, vector theta,  real[] x_r, int[] x_i) {\n",
    "      vector[1] z;\n",
    "      z[1] = expm1(-y[1]*theta[1]) + theta[1];\n",
    "      return z;\n",
    "    }\n",
    "}\n",
    "\n",
    "data {\n",
    "    int<lower = 1> N; //total number of samples\n",
    "    int<lower = 0, upper = N> n; //number of positive samples\n",
    "}\n",
    "\n",
    "transformed data {\n",
    "    real X_r[0];\n",
    "    int X_i[0];\n",
    "\n",
    "    vector[1] R0_guess;\n",
    "    R0_guess[1] = 1.2;\n",
    "}\n",
    "\n",
    "parameters {\n",
    "    real<lower = 0, upper = 1> z; //fraction of positively infected\n",
    "}\n",
    "\n",
    "transformed parameters {\n",
    "    vector[1] theta;\n",
    "    theta[1] = z;\n",
    "    real<lower = 0> R0;\n",
    "\n",
    "    R0 = algebra_solver(algebraic_equation, R0_guess, theta, X_r, X_i)[1];\n",
    "}\n",
    "\n",
    "model {\n",
    "    z ~ normal(0.5, 1.0);\n",
    "    n ~ binomial(N, z);\n",
    "}\n",
    "\n",
    "generated quantities {\n",
    "    real<lower = 0, upper = 1> p = 1.0 - 1.0/R0; //probability of major outbreak\n",
    "}\" %>% cat(file=standirname %&% \"/fit.stan\", sep=\"\", fill=TRUE)\n",
    "\n",
    "# Dumping data\n",
    "N = 102\n",
    "n = 15\n",
    "stan_rdump(c('N', 'n'), file=standirname%&%\"/Data.R\") \n",
    "\n",
    "# Dumping initial conditions\n",
    "z = 0.1\n",
    "stan_rdump(c('z'), file=standirname%&%\"/Init.R\") \n",
    "\n",
    "standistribdir = \"../../../../CmdStan\"\n",
    "stanscriptdir = \"../Dropbox/\" %&% substring(standirname,10)\n",
    "\n",
    "## bash file\n",
    "\"#!/bin/bash\n",
    "cwd=$(pwd)\n",
    "cd \"%&%standistribdir%&%\"\n",
    "make -j6 \"%&%stanscriptdir%&%\"/fit\n",
    "cd \"%&%stanscriptdir%&%\"\n",
    "mkdir -p diagnostics\n",
    "for i in {1..5}\n",
    "do\n",
    "    echo Running ${i}\n",
    "    SEEDNUMBER=$((1+$i))\n",
    "    ./fit \\\\\n",
    "        method=sample num_samples=2000 num_warmup=4000 save_warmup=0 \\\\\n",
    "            adapt delta=0.92 \\\\\n",
    "            algorithm=hmc \\\\\n",
    "                engine=nuts \\\\\n",
    "        random seed=${SEEDNUMBER} \\\\\n",
    "        id=$i \\\\\n",
    "        data file=Data.R \\\\\n",
    "        init=Init.R \\\\\n",
    "        output file=trace-$i.csv \\\\\n",
    "            diagnostic_file=diagnostics/diagnostics-$i.csv > diagnostics/output-$i.txt &\n",
    "done\n",
    "echo Finished sampling haha!\n",
    "\" %>% cat(file=standirname%&%\"/fit.sh\", sep=\"\", fill=TRUE)\n",
    "\n",
    "# running the bash script\n",
    "system(\"bash \"%&%standirname%&%\"/fit.sh\", intern = TRUE)"
   ]
  },
  {
   "cell_type": "code",
   "execution_count": null,
   "metadata": {},
   "outputs": [],
   "source": []
  }
 ],
 "metadata": {
  "kernelspec": {
   "display_name": "R",
   "language": "R",
   "name": "ir"
  },
  "language_info": {
   "codemirror_mode": "r",
   "file_extension": ".r",
   "mimetype": "text/x-r-source",
   "name": "R",
   "pygments_lexer": "r",
   "version": "4.0.0"
  }
 },
 "nbformat": 4,
 "nbformat_minor": 4
}
