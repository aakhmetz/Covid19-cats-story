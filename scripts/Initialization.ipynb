{
 "cells": [
  {
   "cell_type": "code",
   "execution_count": 2,
   "metadata": {},
   "outputs": [
    {
     "name": "stdout",
     "output_type": "stream",
     "text": [
      "2019年  5月 28日 火曜日 11:21:48 JST\n"
     ]
    }
   ],
   "source": [
    "!date"
   ]
  },
  {
   "cell_type": "code",
   "execution_count": 2,
   "metadata": {},
   "outputs": [
    {
     "name": "stdout",
     "output_type": "stream",
     "text": [
      "Running with PyMC3 version v.3.8\n",
      "3.7.6 (default, Jan  8 2020, 13:42:34) \n",
      "[Clang 4.0.1 (tags/RELEASE_401/final)]\n",
      "The rpy2.ipython extension is already loaded. To reload it, use:\n",
      "  %reload_ext rpy2.ipython\n"
     ]
    }
   ],
   "source": [
    "import pandas as pd\n",
    "import numpy as np\n",
    "import scipy.stats as ss\n",
    "\n",
    "%matplotlib inline\n",
    "# Make inline plots raster graphics\n",
    "from IPython.display import set_matplotlib_formats\n",
    "import matplotlib\n",
    "import matplotlib.pyplot as plt\n",
    "import matplotlib.dates as mdates\n",
    "from datetime import timedelta\n",
    "import arviz as az\n",
    "\n",
    "# Parameters for seaborn plots\n",
    "import seaborn as sns\n",
    "clrs = sns.color_palette(\"Spectral\", 6)\n",
    "def set_plot_style(usetex=False):\n",
    "    sns.set_style('white', {'axes.linewidth': 0.5})\n",
    "    sns.set(style='white', font_scale=1.1,#context='paper',\n",
    "            rc={'xtick.major.size': 6, 'ytick.major.size': 6, 'legend.fontsize': 14,\n",
    "                'text.usetex': usetex, 'font.family': 'serif', 'font.serif': ['Verdana'],\n",
    "                'text.latex.preamble': r\"\\usepackage{type1cm}\"}) \n",
    "    plt.rcParams['xtick.major.size'] = 6\n",
    "    plt.rcParams['xtick.major.width'] = 1\n",
    "    plt.rcParams['ytick.major.size'] = 6\n",
    "    plt.rcParams['ytick.major.width'] = 1\n",
    "    plt.rcParams['xtick.bottom'] = True\n",
    "    plt.rcParams['ytick.left'] = True\n",
    "\n",
    "palette_size = 6;\n",
    "clrs = sns.color_palette(\"colorblind\",palette_size) #cubehelix\n",
    "import itertools # to do cycle, product\n",
    "iclrs = itertools.cycle(clrs) # iterated colors\n",
    "lw = .4 #linewidth for bins on plot.bar()\n",
    "\n",
    "import pymc3 as pm\n",
    "print('Running with PyMC3 version v.{}'.format(pm.__version__))\n",
    "import pymc3.distributions.transforms as tr\n",
    "import theano\n",
    "import theano.tensor as tt\n",
    "from theano.compile.ops import as_op\n",
    "theano.config.compute_test_value = 'ignore'\n",
    "\n",
    "import time\n",
    "import pickle\n",
    "\n",
    "import descartes\n",
    "import fiona\n",
    "import geopandas as gpd\n",
    "import geopy.distance\n",
    "\n",
    "import locale\n",
    "import platform \n",
    "current_platform = platform.system()\n",
    "if current_platform=='Darwin':\n",
    "    %config InlineBackend.figure_format = 'retina'\n",
    "else:\n",
    "    locale.setlocale(locale.LC_ALL, 'en_US.utf8')\n",
    "    %config InlineBackend.figure_format = 'png'\n",
    "\n",
    "import sys\n",
    "print(sys.version)\n",
    "\n",
    "from pandas.plotting import register_matplotlib_converters\n",
    "register_matplotlib_converters()\n",
    "\n",
    "from IPython.core.display import Image, display\n",
    "\n",
    "import rpy2.rinterface\n",
    "%load_ext rpy2.ipython\n",
    "rpy2.robjects.r['options'](warn=-1)\n",
    "\n",
    "import warnings\n",
    "from rpy2.rinterface import RRuntimeWarning\n",
    "warnings.filterwarnings(\"ignore\", category=RRuntimeWarning)\n",
    "warnings.simplefilter(action='ignore', category=FutureWarning)\n",
    "\n",
    "import matplotlib.animation as animation\n",
    "\n",
    "from shapely.geometry import Point\n",
    "\n",
    "from termcolor import colored\n",
    "\n",
    "import scipy.stats as ss\n",
    "import scipy.special as ssp"
   ]
  },
  {
   "cell_type": "code",
   "execution_count": null,
   "metadata": {},
   "outputs": [],
   "source": [
    "from pandas.tseries.offsets import DateOffset\n",
    "\n",
    "import warnings\n",
    "warnings.filterwarnings('ignore')\n",
    "\n",
    "!mkdir -p ../../results/Andrei/Stan-sims\n",
    "\n",
    "func_dict = {\"q2.5\": lambda x: np.percentile(x, 2.5), \n",
    "             \"q25\": lambda x: np.percentile(x, 25), \n",
    "             \"median\": lambda x: np.percentile(x, 50), \n",
    "             \"q75\": lambda x: np.percentile(x, 75), \n",
    "             \"q97.5\": lambda x: np.percentile(x, 97.5)}\n",
    "\n",
    "def get_stats(cmdstan_data):\n",
    "    # include mean and hpd\n",
    "    stats = az.summary(cmdstan_data,credible_interval=0.95).loc[:, ['mean','hpd_2.5%','hpd_97.5%','ess_bulk','ess_tail','r_hat']].reset_index().rename(columns={'index':'var', 'hpd_2.5%':'hpd2.5', 'hpd_97.5%':'hpd97.5'})\n",
    "    stats = az.summary(cmdstan_data,credible_interval=0.50).loc[:, ['hpd_25%','hpd_75%']].reset_index().rename(columns={'index':'var', 'hpd_25%':'hpd25', 'hpd_75%':'hpd75'}).\\\n",
    "        merge(stats, left_on='var', right_on='var')\n",
    "    # include percentiles\n",
    "    stats = az.summary(cmdstan_data, stat_funcs=func_dict, extend=False).reset_index().rename(columns={'index': 'var'}).merge(stats, left_on='var', right_on='var')\n",
    "    stats['time'] = stats['var'].apply(lambda st: st[st.find(\"[\")+1:st.find(\"]\")])\n",
    "    stats['time'] = ['NA' if \"[\" not in y else int(x)+1 for x,y in zip(stats['time'],stats['var'])]\n",
    "    stats['var'] = stats['var'].apply(lambda st: st[:st.find(\"[\")] if \"[\" in st else st)\n",
    "    return stats.loc[:,['var','time','mean','hpd2.5','hpd25','hpd75','hpd97.5','q2.5','q25','median','q75','q97.5','ess_bulk','ess_tail','r_hat']]\n",
    "\n",
    "def get_stats_2d(cmdstan_data):\n",
    "    # include mean and hpd\n",
    "    stats = az.summary(cmdstan_data,credible_interval=0.95).loc[:, ['mean','hpd_2.5%','hpd_97.5%','ess_bulk','ess_tail','r_hat']].reset_index().rename(columns={'index':'var', 'hpd_2.5%':'hpd2.5', 'hpd_97.5%':'hpd97.5'})\n",
    "    stats = az.summary(cmdstan_data,credible_interval=0.50).loc[:, ['hpd_25%','hpd_75%']].reset_index().rename(columns={'index':'var', 'hpd_25%':'hpd25', 'hpd_75%':'hpd75'}).\\\n",
    "        merge(stats, left_on='var', right_on='var')\n",
    "    # include percentiles\n",
    "    stats = az.summary(cmdstan_data, stat_funcs=func_dict, extend=False).reset_index().rename(columns={'index': 'var'}).merge(stats, left_on='var', right_on='var')\n",
    "    stats['time'] = stats['var'].apply(lambda st: st[st.find(\"[\")+1:st.find(\"]\")])\n",
    "    stats['time'] = ['NA' if \"[\" not in y else x for x,y in zip(stats['time'],stats['var'])]\n",
    "    stats['var'] = stats['var'].apply(lambda st: st[:st.find(\"[\")] if \"[\" in st else st)\n",
    "    return stats.loc[:,['var','time','mean','hpd2.5','hpd25','hpd75','hpd97.5','q2.5','q25',\n",
    "                        'median','q75','q97.5','ess_bulk','ess_tail','r_hat']]"
   ]
  },
  {
   "cell_type": "code",
   "execution_count": 1,
   "metadata": {},
   "outputs": [],
   "source": []
  },
  {
   "cell_type": "code",
   "execution_count": null,
   "metadata": {},
   "outputs": [],
   "source": []
  }
 ],
 "metadata": {
  "kernelspec": {
   "display_name": "Python 3",
   "language": "python",
   "name": "python3"
  },
  "language_info": {
   "codemirror_mode": {
    "name": "ipython",
    "version": 3
   },
   "file_extension": ".py",
   "mimetype": "text/x-python",
   "name": "python",
   "nbconvert_exporter": "python",
   "pygments_lexer": "ipython3",
   "version": "3.7.7"
  }
 },
 "nbformat": 4,
 "nbformat_minor": 4
}
